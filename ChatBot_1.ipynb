{
  "cells": [
    {
      "cell_type": "markdown",
      "metadata": {
        "id": "KxO_EtWjnsHc"
      },
      "source": [
        "# **Chat-Bot**"
      ]
    },
    {
      "cell_type": "markdown",
      "metadata": {
        "id": "Imp5O6GnoDVQ"
      },
      "source": [
        "### **1-Loading The Data**\n",
        "\n",
        "\n",
        "\n"
      ]
    },
    {
      "cell_type": "code",
      "execution_count": 16,
      "metadata": {
        "id": "8UxybA6NSzn9"
      },
      "outputs": [],
      "source": [
        "import pickle\n",
        "import numpy as np"
      ]
    },
    {
      "cell_type": "code",
      "execution_count": 17,
      "metadata": {
        "id": "ZZBa4fVahEB5"
      },
      "outputs": [],
      "source": [
        "with open('train_qa.txt','rb') as f:\n",
        "  train_data=pickle.load(f)\n"
      ]
    },
    {
      "cell_type": "code",
      "execution_count": 18,
      "metadata": {
        "id": "u6vZMXarh1VQ"
      },
      "outputs": [],
      "source": [
        "with open('test_qa.txt','rb') as f:\n",
        "  test_data=pickle.load(f)"
      ]
    },
    {
      "cell_type": "code",
      "execution_count": 19,
      "metadata": {
        "colab": {
          "base_uri": "https://localhost:8080/"
        },
        "id": "rnolJZXSiObE",
        "outputId": "be1acac0-35cb-4ff8-b6c6-3e7068ae5b6b"
      },
      "outputs": [
        {
          "output_type": "execute_result",
          "data": {
            "text/plain": [
              "10000"
            ]
          },
          "metadata": {},
          "execution_count": 19
        }
      ],
      "source": [
        "len(train_data)"
      ]
    },
    {
      "cell_type": "code",
      "execution_count": 20,
      "metadata": {
        "colab": {
          "base_uri": "https://localhost:8080/"
        },
        "id": "LPQpCCPeip_S",
        "outputId": "7dafabc3-be79-4501-8647-bb8420058056"
      },
      "outputs": [
        {
          "output_type": "execute_result",
          "data": {
            "text/plain": [
              "1000"
            ]
          },
          "metadata": {},
          "execution_count": 20
        }
      ],
      "source": [
        "len(test_data)"
      ]
    },
    {
      "cell_type": "markdown",
      "metadata": {
        "id": "2Cy0QqVFobov"
      },
      "source": [
        "### **2-Exploring Data Format**"
      ]
    },
    {
      "cell_type": "code",
      "execution_count": 21,
      "metadata": {
        "colab": {
          "base_uri": "https://localhost:8080/"
        },
        "id": "JCkvyAcpi9mJ",
        "outputId": "4ca01c76-3738-43af-808e-54cca8c9be7f"
      },
      "outputs": [
        {
          "output_type": "execute_result",
          "data": {
            "text/plain": [
              "(['Mary',\n",
              "  'moved',\n",
              "  'to',\n",
              "  'the',\n",
              "  'bathroom',\n",
              "  '.',\n",
              "  'Sandra',\n",
              "  'journeyed',\n",
              "  'to',\n",
              "  'the',\n",
              "  'bedroom',\n",
              "  '.'],\n",
              " ['Is', 'Sandra', 'in', 'the', 'hallway', '?'],\n",
              " 'no')"
            ]
          },
          "metadata": {},
          "execution_count": 21
        }
      ],
      "source": [
        "train_data[0]"
      ]
    },
    {
      "cell_type": "code",
      "execution_count": 22,
      "metadata": {
        "colab": {
          "base_uri": "https://localhost:8080/",
          "height": 35
        },
        "id": "aHO8K9ndjDgm",
        "outputId": "4b650b2b-3e5a-41d8-9be3-e92d6774b4df"
      },
      "outputs": [
        {
          "output_type": "execute_result",
          "data": {
            "text/plain": [
              "'Mary moved to the bathroom . Sandra journeyed to the bedroom .'"
            ],
            "application/vnd.google.colaboratory.intrinsic+json": {
              "type": "string"
            }
          },
          "metadata": {},
          "execution_count": 22
        }
      ],
      "source": [
        "#Input=x\n",
        "#Sentence\n",
        "' '.join(train_data[0][0])"
      ]
    },
    {
      "cell_type": "code",
      "execution_count": 23,
      "metadata": {
        "colab": {
          "base_uri": "https://localhost:8080/",
          "height": 35
        },
        "id": "59xTHb0TjZBi",
        "outputId": "98f2f697-65b3-4d97-8895-c812b164675f"
      },
      "outputs": [
        {
          "output_type": "execute_result",
          "data": {
            "text/plain": [
              "'Is Sandra in the hallway ?'"
            ],
            "application/vnd.google.colaboratory.intrinsic+json": {
              "type": "string"
            }
          },
          "metadata": {},
          "execution_count": 23
        }
      ],
      "source": [
        "#Question\n",
        "' '.join(train_data[0][1])"
      ]
    },
    {
      "cell_type": "code",
      "execution_count": 24,
      "metadata": {
        "colab": {
          "base_uri": "https://localhost:8080/",
          "height": 35
        },
        "id": "mzHwwdH9kGsC",
        "outputId": "b77a002f-b023-437d-d4bb-86f42f22d8e9"
      },
      "outputs": [
        {
          "output_type": "execute_result",
          "data": {
            "text/plain": [
              "'no'"
            ],
            "application/vnd.google.colaboratory.intrinsic+json": {
              "type": "string"
            }
          },
          "metadata": {},
          "execution_count": 24
        }
      ],
      "source": [
        "#Solution\n",
        "train_data[0][2]"
      ]
    },
    {
      "cell_type": "code",
      "execution_count": 25,
      "metadata": {
        "id": "9Ck6HufjjkaU"
      },
      "outputs": [],
      "source": [
        "all_data=test_data+train_data"
      ]
    },
    {
      "cell_type": "code",
      "execution_count": 26,
      "metadata": {
        "colab": {
          "base_uri": "https://localhost:8080/"
        },
        "id": "brdCCQ84kUS4",
        "outputId": "0cd99b37-b615-4b1d-aa4c-76003882b30e"
      },
      "outputs": [
        {
          "output_type": "execute_result",
          "data": {
            "text/plain": [
              "11000"
            ]
          },
          "metadata": {},
          "execution_count": 26
        }
      ],
      "source": [
        "len(all_data)"
      ]
    },
    {
      "cell_type": "markdown",
      "metadata": {
        "id": "Au2b61cconnY"
      },
      "source": [
        "## 3-Creating Vocabulary set"
      ]
    },
    {
      "cell_type": "code",
      "execution_count": 27,
      "metadata": {
        "id": "KB4-sghpkWTS"
      },
      "outputs": [],
      "source": [
        "#Creating An empty set\n",
        "vocab=set()\n",
        "#basically adding every new word in the story everytime in appears\n",
        "for story,question,answer in all_data:\n",
        "  vocab=vocab.union(set(story))\n",
        "  vocab=vocab.union(set(question))\n",
        "#Answer is always yes or no\n",
        "vocab.add('yes')\n",
        "vocab.add('no')"
      ]
    },
    {
      "cell_type": "code",
      "execution_count": 28,
      "metadata": {
        "id": "P2p0_QSPldUj"
      },
      "outputs": [],
      "source": [
        "#Creating A place holder for later\n",
        "vocab_len=len(vocab)+1"
      ]
    },
    {
      "cell_type": "markdown",
      "metadata": {
        "id": "s2hwhpb7ltXS"
      },
      "source": [
        "Longest Story,question"
      ]
    },
    {
      "cell_type": "code",
      "execution_count": 29,
      "metadata": {
        "id": "rMKEhmNxlqei"
      },
      "outputs": [],
      "source": [
        "#Creating a list containing no of words each story has\n",
        "all_story_lens=[len(data[0]) for data in all_data]"
      ]
    },
    {
      "cell_type": "code",
      "execution_count": 30,
      "metadata": {
        "colab": {
          "base_uri": "https://localhost:8080/"
        },
        "id": "w2wBcCo_mDQc",
        "outputId": "71822246-39cc-4b80-b850-88894ee43fab"
      },
      "outputs": [
        {
          "output_type": "stream",
          "name": "stdout",
          "text": [
            "156\n"
          ]
        }
      ],
      "source": [
        "max_story_len=max(all_story_lens)\n",
        "print(max_story_len)"
      ]
    },
    {
      "cell_type": "code",
      "execution_count": 31,
      "metadata": {
        "colab": {
          "base_uri": "https://localhost:8080/"
        },
        "id": "c9vp96d8mHZY",
        "outputId": "65d9aa75-cade-4ce7-db5a-e5696eaf21a3"
      },
      "outputs": [
        {
          "output_type": "stream",
          "name": "stdout",
          "text": [
            "6\n"
          ]
        }
      ],
      "source": [
        "max_question_len=max([len(data[1]) for data in all_data])\n",
        "print(max_question_len)"
      ]
    },
    {
      "cell_type": "markdown",
      "metadata": {
        "id": "n5zle05LpGlK"
      },
      "source": [
        "## 4-Vectorizing Data"
      ]
    },
    {
      "cell_type": "code",
      "execution_count": 32,
      "metadata": {
        "id": "RbdhxQWBmURs"
      },
      "outputs": [],
      "source": [
        "from keras.preprocessing.sequence import pad_sequences\n",
        "from keras.preprocessing.text import Tokenizer"
      ]
    },
    {
      "cell_type": "code",
      "execution_count": 33,
      "metadata": {
        "id": "h49ZEA7PpfvH"
      },
      "outputs": [],
      "source": [
        "tokenizer=Tokenizer(filters=[])\n",
        "tokenizer.fit_on_texts(vocab)"
      ]
    },
    {
      "cell_type": "code",
      "execution_count": 34,
      "metadata": {
        "colab": {
          "base_uri": "https://localhost:8080/"
        },
        "id": "bcQTPnaUqGc8",
        "outputId": "7bc2979c-ac8d-4b90-fda6-a75fbc02e836"
      },
      "outputs": [
        {
          "output_type": "execute_result",
          "data": {
            "text/plain": [
              "{'dropped': 1,\n",
              " 'sandra': 2,\n",
              " 'went': 3,\n",
              " 'mary': 4,\n",
              " 'football': 5,\n",
              " 'got': 6,\n",
              " 'no': 7,\n",
              " 'bathroom': 8,\n",
              " 'picked': 9,\n",
              " 'john': 10,\n",
              " 'took': 11,\n",
              " 'up': 12,\n",
              " 'daniel': 13,\n",
              " 'garden': 14,\n",
              " 'there': 15,\n",
              " 'in': 16,\n",
              " 'bedroom': 17,\n",
              " '?': 18,\n",
              " 'milk': 19,\n",
              " 'back': 20,\n",
              " 'apple': 21,\n",
              " 'discarded': 22,\n",
              " 'put': 23,\n",
              " 'grabbed': 24,\n",
              " 'yes': 25,\n",
              " 'left': 26,\n",
              " 'kitchen': 27,\n",
              " 'the': 28,\n",
              " 'travelled': 29,\n",
              " '.': 30,\n",
              " 'is': 31,\n",
              " 'to': 32,\n",
              " 'hallway': 33,\n",
              " 'down': 34,\n",
              " 'moved': 35,\n",
              " 'office': 36,\n",
              " 'journeyed': 37}"
            ]
          },
          "metadata": {},
          "execution_count": 34
        }
      ],
      "source": [
        "#It automatically lower cases the letters\n",
        "tokenizer.word_index"
      ]
    },
    {
      "cell_type": "code",
      "execution_count": 35,
      "metadata": {
        "id": "1pP6vVDxqoP6"
      },
      "outputs": [],
      "source": [
        "train_story_text=[]\n",
        "train_question_text=[]\n",
        "train_answers=[]"
      ]
    },
    {
      "cell_type": "code",
      "execution_count": 36,
      "metadata": {
        "id": "5DubVZ1tqyGP"
      },
      "outputs": [],
      "source": [
        "for story,question,answer in train_data:\n",
        "  train_story_text.append(story)\n",
        "  train_question_text.append(question)\n",
        "  train_answers.append(answer)"
      ]
    },
    {
      "cell_type": "code",
      "execution_count": 37,
      "metadata": {
        "id": "CGywWA6XrEu1"
      },
      "outputs": [],
      "source": [
        "train_story_seq=tokenizer.texts_to_sequences(train_story_text)"
      ]
    },
    {
      "cell_type": "code",
      "execution_count": 38,
      "metadata": {
        "colab": {
          "base_uri": "https://localhost:8080/"
        },
        "id": "yfiToC4hrDli",
        "outputId": "6434286e-a11c-4ac5-f7d4-73e7624eae13"
      },
      "outputs": [
        {
          "output_type": "stream",
          "name": "stdout",
          "text": [
            "Index: 0, Story: ['Mary', 'moved', 'to', 'the', 'bathroom', '.', 'Sandra', 'journeyed', 'to', 'the', 'bedroom', '.']\n",
            "Index: 1, Story: ['Mary', 'moved', 'to', 'the', 'bathroom', '.', 'Sandra', 'journeyed', 'to', 'the', 'bedroom', '.', 'Mary', 'went', 'back', 'to', 'the', 'bedroom', '.', 'Daniel', 'went', 'back', 'to', 'the', 'hallway', '.']\n",
            "Index: 2, Story: ['Mary', 'moved', 'to', 'the', 'bathroom', '.', 'Sandra', 'journeyed', 'to', 'the', 'bedroom', '.', 'Mary', 'went', 'back', 'to', 'the', 'bedroom', '.', 'Daniel', 'went', 'back', 'to', 'the', 'hallway', '.', 'Sandra', 'went', 'to', 'the', 'kitchen', '.', 'Daniel', 'went', 'back', 'to', 'the', 'bathroom', '.']\n",
            "Index: 3, Story: ['Mary', 'moved', 'to', 'the', 'bathroom', '.', 'Sandra', 'journeyed', 'to', 'the', 'bedroom', '.', 'Mary', 'went', 'back', 'to', 'the', 'bedroom', '.', 'Daniel', 'went', 'back', 'to', 'the', 'hallway', '.', 'Sandra', 'went', 'to', 'the', 'kitchen', '.', 'Daniel', 'went', 'back', 'to', 'the', 'bathroom', '.', 'Daniel', 'picked', 'up', 'the', 'football', 'there', '.', 'Daniel', 'went', 'to', 'the', 'bedroom', '.']\n",
            "Index: 4, Story: ['Mary', 'moved', 'to', 'the', 'bathroom', '.', 'Sandra', 'journeyed', 'to', 'the', 'bedroom', '.', 'Mary', 'went', 'back', 'to', 'the', 'bedroom', '.', 'Daniel', 'went', 'back', 'to', 'the', 'hallway', '.', 'Sandra', 'went', 'to', 'the', 'kitchen', '.', 'Daniel', 'went', 'back', 'to', 'the', 'bathroom', '.', 'Daniel', 'picked', 'up', 'the', 'football', 'there', '.', 'Daniel', 'went', 'to', 'the', 'bedroom', '.', 'John', 'travelled', 'to', 'the', 'office', '.', 'Sandra', 'went', 'to', 'the', 'garden', '.']\n",
            "Index: 5, Story: ['Sandra', 'got', 'the', 'football', 'there', '.', 'Mary', 'went', 'to', 'the', 'bedroom', '.']\n",
            "Index: 6, Story: ['Sandra', 'got', 'the', 'football', 'there', '.', 'Mary', 'went', 'to', 'the', 'bedroom', '.', 'Daniel', 'got', 'the', 'apple', 'there', '.', 'Sandra', 'travelled', 'to', 'the', 'hallway', '.']\n",
            "Index: 7, Story: ['Sandra', 'got', 'the', 'football', 'there', '.', 'Mary', 'went', 'to', 'the', 'bedroom', '.', 'Daniel', 'got', 'the', 'apple', 'there', '.', 'Sandra', 'travelled', 'to', 'the', 'hallway', '.', 'Sandra', 'moved', 'to', 'the', 'garden', '.', 'Mary', 'travelled', 'to', 'the', 'kitchen', '.']\n",
            "Index: 8, Story: ['Sandra', 'got', 'the', 'football', 'there', '.', 'Mary', 'went', 'to', 'the', 'bedroom', '.', 'Daniel', 'got', 'the', 'apple', 'there', '.', 'Sandra', 'travelled', 'to', 'the', 'hallway', '.', 'Sandra', 'moved', 'to', 'the', 'garden', '.', 'Mary', 'travelled', 'to', 'the', 'kitchen', '.', 'Sandra', 'went', 'back', 'to', 'the', 'bedroom', '.', 'Daniel', 'put', 'down', 'the', 'apple', '.']\n",
            "Index: 9, Story: ['Sandra', 'got', 'the', 'football', 'there', '.', 'Mary', 'went', 'to', 'the', 'bedroom', '.', 'Daniel', 'got', 'the', 'apple', 'there', '.', 'Sandra', 'travelled', 'to', 'the', 'hallway', '.', 'Sandra', 'moved', 'to', 'the', 'garden', '.', 'Mary', 'travelled', 'to', 'the', 'kitchen', '.', 'Sandra', 'went', 'back', 'to', 'the', 'bedroom', '.', 'Daniel', 'put', 'down', 'the', 'apple', '.', 'Sandra', 'put', 'down', 'the', 'football', '.', 'Sandra', 'journeyed', 'to', 'the', 'office', '.']\n"
          ]
        }
      ],
      "source": [
        "for i, story in enumerate(train_story_text):\n",
        "    if i < 10:\n",
        "        print(f\"Index: {i}, Story: {story}\")\n",
        "    else:\n",
        "        break"
      ]
    },
    {
      "cell_type": "code",
      "execution_count": 39,
      "metadata": {
        "colab": {
          "base_uri": "https://localhost:8080/"
        },
        "id": "OlFfrNeZrbQt",
        "outputId": "93859d27-a162-46ee-d0c8-a231f48f3565"
      },
      "outputs": [
        {
          "output_type": "stream",
          "name": "stdout",
          "text": [
            "Index: 0, Story: [4, 35, 32, 28, 8, 30, 2, 37, 32, 28, 17, 30]\n",
            "Index: 1, Story: [4, 35, 32, 28, 8, 30, 2, 37, 32, 28, 17, 30, 4, 3, 20, 32, 28, 17, 30, 13, 3, 20, 32, 28, 33, 30]\n",
            "Index: 2, Story: [4, 35, 32, 28, 8, 30, 2, 37, 32, 28, 17, 30, 4, 3, 20, 32, 28, 17, 30, 13, 3, 20, 32, 28, 33, 30, 2, 3, 32, 28, 27, 30, 13, 3, 20, 32, 28, 8, 30]\n",
            "Index: 3, Story: [4, 35, 32, 28, 8, 30, 2, 37, 32, 28, 17, 30, 4, 3, 20, 32, 28, 17, 30, 13, 3, 20, 32, 28, 33, 30, 2, 3, 32, 28, 27, 30, 13, 3, 20, 32, 28, 8, 30, 13, 9, 12, 28, 5, 15, 30, 13, 3, 32, 28, 17, 30]\n",
            "Index: 4, Story: [4, 35, 32, 28, 8, 30, 2, 37, 32, 28, 17, 30, 4, 3, 20, 32, 28, 17, 30, 13, 3, 20, 32, 28, 33, 30, 2, 3, 32, 28, 27, 30, 13, 3, 20, 32, 28, 8, 30, 13, 9, 12, 28, 5, 15, 30, 13, 3, 32, 28, 17, 30, 10, 29, 32, 28, 36, 30, 2, 3, 32, 28, 14, 30]\n",
            "Index: 5, Story: [2, 6, 28, 5, 15, 30, 4, 3, 32, 28, 17, 30]\n",
            "Index: 6, Story: [2, 6, 28, 5, 15, 30, 4, 3, 32, 28, 17, 30, 13, 6, 28, 21, 15, 30, 2, 29, 32, 28, 33, 30]\n",
            "Index: 7, Story: [2, 6, 28, 5, 15, 30, 4, 3, 32, 28, 17, 30, 13, 6, 28, 21, 15, 30, 2, 29, 32, 28, 33, 30, 2, 35, 32, 28, 14, 30, 4, 29, 32, 28, 27, 30]\n",
            "Index: 8, Story: [2, 6, 28, 5, 15, 30, 4, 3, 32, 28, 17, 30, 13, 6, 28, 21, 15, 30, 2, 29, 32, 28, 33, 30, 2, 35, 32, 28, 14, 30, 4, 29, 32, 28, 27, 30, 2, 3, 20, 32, 28, 17, 30, 13, 23, 34, 28, 21, 30]\n",
            "Index: 9, Story: [2, 6, 28, 5, 15, 30, 4, 3, 32, 28, 17, 30, 13, 6, 28, 21, 15, 30, 2, 29, 32, 28, 33, 30, 2, 35, 32, 28, 14, 30, 4, 29, 32, 28, 27, 30, 2, 3, 20, 32, 28, 17, 30, 13, 23, 34, 28, 21, 30, 2, 23, 34, 28, 5, 30, 2, 37, 32, 28, 36, 30]\n"
          ]
        }
      ],
      "source": [
        "#Converted words into sequenses in the vocablulary\n",
        "for i, story in enumerate(train_story_seq):\n",
        "    if i < 10:\n",
        "        print(f\"Index: {i}, Story: {story}\")\n",
        "    else:\n",
        "        break"
      ]
    },
    {
      "cell_type": "markdown",
      "metadata": {
        "id": "cEHdPmPjvOHw"
      },
      "source": [
        "## 5-Create A Function To Vectorize it"
      ]
    },
    {
      "cell_type": "code",
      "execution_count": 40,
      "metadata": {
        "id": "q60Jdf8Frefi"
      },
      "outputs": [],
      "source": [
        "def vectorize_stories(data,word_index=tokenizer.word_index,max_story_len=max_story_len,max_question_len=max_question_len):\n",
        "  #Stories->X\n",
        "  X=[]\n",
        "  #Questions->Xq\n",
        "  Xq=[]\n",
        "  #Answer->Y\n",
        "  Y=[]\n",
        "\n",
        "  for story,query,answer in data:\n",
        "    #for each story [23,14....]\n",
        "    x=[word_index[word.lower()] for word in story]\n",
        "    xq=[word_index[word.lower()]for word in query]\n",
        "\n",
        "    y=np.zeros(len(word_index)+1)\n",
        "    y[word_index[answer]]=1\n",
        "\n",
        "    X.append(x)\n",
        "    Xq.append(xq)\n",
        "    Y.append(y)\n",
        "\n",
        "    return(pad_sequences(X,maxlen=max_story_len),pad_sequences(Xq,maxlen=max_question_len),np.array(Y))"
      ]
    },
    {
      "cell_type": "code",
      "execution_count": 41,
      "metadata": {
        "id": "Tzm_UdWBxu2C"
      },
      "outputs": [],
      "source": [
        "inputs_train,queries_train,answers_train=vectorize_stories(train_data)"
      ]
    },
    {
      "cell_type": "code",
      "execution_count": 42,
      "metadata": {
        "id": "7QAHDyakyCWE"
      },
      "outputs": [],
      "source": [
        "inputs_test,queries_test,answers_test=vectorize_stories(test_data)"
      ]
    },
    {
      "cell_type": "code",
      "execution_count": 43,
      "metadata": {
        "colab": {
          "base_uri": "https://localhost:8080/"
        },
        "id": "ETMoZDIryKdz",
        "outputId": "be7bc20a-8df1-4d54-da0d-bd382fd1ddc8"
      },
      "outputs": [
        {
          "output_type": "execute_result",
          "data": {
            "text/plain": [
              "25"
            ]
          },
          "metadata": {},
          "execution_count": 43
        }
      ],
      "source": [
        "tokenizer.word_index['yes']"
      ]
    },
    {
      "cell_type": "code",
      "execution_count": 44,
      "metadata": {
        "colab": {
          "base_uri": "https://localhost:8080/"
        },
        "id": "G9BieBtWyW1s",
        "outputId": "15cc560d-405d-4a7e-a3db-671666571402"
      },
      "outputs": [
        {
          "output_type": "execute_result",
          "data": {
            "text/plain": [
              "7"
            ]
          },
          "metadata": {},
          "execution_count": 44
        }
      ],
      "source": [
        "tokenizer.word_index['no']"
      ]
    },
    {
      "cell_type": "code",
      "execution_count": 45,
      "metadata": {
        "colab": {
          "base_uri": "https://localhost:8080/"
        },
        "id": "233IojjcybN4",
        "outputId": "e4be43cc-540a-4a51-989c-cfd4ed939b23"
      },
      "outputs": [
        {
          "output_type": "execute_result",
          "data": {
            "text/plain": [
              "array([0., 0., 0., 0., 0., 0., 0., 1., 0., 0., 0., 0., 0., 0., 0., 0., 0.,\n",
              "       0., 0., 0., 0., 0., 0., 0., 0., 0., 0., 0., 0., 0., 0., 0., 0., 0.,\n",
              "       0., 0., 0., 0.])"
            ]
          },
          "metadata": {},
          "execution_count": 45
        }
      ],
      "source": [
        "sum(answers_test)"
      ]
    },
    {
      "cell_type": "markdown",
      "metadata": {
        "id": "5PClgxYyiBRV"
      },
      "source": [
        "## **6-Building The Neural Network**"
      ]
    },
    {
      "cell_type": "code",
      "execution_count": 53,
      "metadata": {
        "id": "npk9kQbRyfPe"
      },
      "outputs": [],
      "source": [
        "\n",
        "from keras.models import Sequential, Model\n",
        "from keras.layers import Embedding\n",
        "from keras.layers import Input, Activation, Dense, Permute, Dropout\n",
        "from keras.layers import add, dot, concatenate\n",
        "from keras.layers import LSTM\n"
      ]
    },
    {
      "cell_type": "code",
      "execution_count": 55,
      "metadata": {
        "id": "2WCHmDPMiuKx"
      },
      "outputs": [],
      "source": [
        "input_sequence = Input((max_story_len,))\n",
        "question = Input((max_question_len,))"
      ]
    },
    {
      "cell_type": "code",
      "source": [
        "vocab_size=len(vocab)+1"
      ],
      "metadata": {
        "id": "KTXSCG3ZrOiT"
      },
      "execution_count": 57,
      "outputs": []
    },
    {
      "cell_type": "code",
      "source": [
        "#Input Emcoder M\n",
        "\n",
        "# Input gets embedded to a sequence of vectors\n",
        "input_encoder_m = Sequential()\n",
        "input_encoder_m.add(Embedding(input_dim=vocab_size,output_dim=64))\n",
        "input_encoder_m.add(Dropout(0.3))\n",
        "\n",
        "# This encoder will output:\n",
        "# (samples, story_maxlen, embedding_dim)\n"
      ],
      "metadata": {
        "id": "ho3_C0epqtLS"
      },
      "execution_count": 58,
      "outputs": []
    },
    {
      "cell_type": "code",
      "source": [
        "#Input Emcoder C\n",
        "\n",
        "# embed the input into a sequence of vectors of size query_maxlen\n",
        "input_encoder_c = Sequential()\n",
        "input_encoder_c.add(Embedding(input_dim=vocab_size,output_dim=max_question_len))\n",
        "input_encoder_c.add(Dropout(0.3))\n",
        "# output: (samples, story_maxlen, query_maxlen)\n"
      ],
      "metadata": {
        "id": "6LJUUKl4q8FQ"
      },
      "execution_count": 59,
      "outputs": []
    },
    {
      "cell_type": "code",
      "source": [
        "# embed the question into a sequence of vectors\n",
        "question_encoder = Sequential()\n",
        "question_encoder.add(Embedding(input_dim=vocab_size,\n",
        "                               output_dim=64,\n",
        "                               input_length=max_question_len))\n",
        "question_encoder.add(Dropout(0.3))\n",
        "# output: (samples, query_maxlen, embedding_dim)"
      ],
      "metadata": {
        "id": "q_yGIPJPraYL"
      },
      "execution_count": 60,
      "outputs": []
    },
    {
      "cell_type": "code",
      "source": [
        "# encode input sequence and questions (which are indices)\n",
        "# to sequences of dense vectors\n",
        "input_encoded_m = input_encoder_m(input_sequence)\n",
        "input_encoded_c = input_encoder_c(input_sequence)\n",
        "question_encoded = question_encoder(question)"
      ],
      "metadata": {
        "id": "pixwab8Srijh"
      },
      "execution_count": 61,
      "outputs": []
    },
    {
      "cell_type": "code",
      "source": [
        "# shape: `(samples, story_maxlen, query_maxlen)`\n",
        "match = dot([input_encoded_m, question_encoded], axes=(2, 2))\n",
        "match = Activation('softmax')(match)"
      ],
      "metadata": {
        "id": "UvrPU8MFrr5C"
      },
      "execution_count": 62,
      "outputs": []
    },
    {
      "cell_type": "code",
      "source": [
        "# add the match matrix with the second input vector sequence\n",
        "response = add([match, input_encoded_c])  # (samples, story_maxlen, query_maxlen)\n",
        "response = Permute((2, 1))(response)  # (samples, query_maxlen, story_maxlen)"
      ],
      "metadata": {
        "id": "mduUBQW2rwJV"
      },
      "execution_count": 63,
      "outputs": []
    },
    {
      "cell_type": "code",
      "source": [
        "answer = concatenate([response, question_encoded])\n",
        "\n",
        "print(answer)"
      ],
      "metadata": {
        "id": "-_kzjXfIr0kj",
        "outputId": "0ca00907-bb9c-432e-a057-df083e475405",
        "colab": {
          "base_uri": "https://localhost:8080/"
        }
      },
      "execution_count": 64,
      "outputs": [
        {
          "output_type": "stream",
          "name": "stdout",
          "text": [
            "KerasTensor(type_spec=TensorSpec(shape=(None, 6, 220), dtype=tf.float32, name=None), name='concatenate/concat:0', description=\"created by layer 'concatenate'\")\n"
          ]
        }
      ]
    },
    {
      "cell_type": "code",
      "source": [
        "answer = LSTM(32)(answer)  # (samples, 32)\n",
        "\n",
        "answer=Dropout(0.5)(answer)\n",
        "answe=Dense(vocab_size)(answer)"
      ],
      "metadata": {
        "id": "FVBw0dADr6mf"
      },
      "execution_count": 65,
      "outputs": []
    },
    {
      "cell_type": "code",
      "source": [
        "# we output a probability distribution over the vocabulary\n",
        "answer = Activation('softmax')(answer)\n",
        "\n",
        "# build the final model\n",
        "model = Model([input_sequence, question], answer)\n",
        "model.compile(optimizer='rmsprop', loss='categorical_crossentropy',\n",
        "              metrics=['accuracy'])"
      ],
      "metadata": {
        "id": "9fqVbqV7sN_O"
      },
      "execution_count": 66,
      "outputs": []
    },
    {
      "cell_type": "code",
      "source": [
        "model.summary()"
      ],
      "metadata": {
        "id": "NbLKZlB4sSLl",
        "outputId": "14343eef-ca9a-4000-bfa0-13493a95d5cf",
        "colab": {
          "base_uri": "https://localhost:8080/"
        }
      },
      "execution_count": 67,
      "outputs": [
        {
          "output_type": "stream",
          "name": "stdout",
          "text": [
            "Model: \"model\"\n",
            "__________________________________________________________________________________________________\n",
            " Layer (type)                Output Shape                 Param #   Connected to                  \n",
            "==================================================================================================\n",
            " input_3 (InputLayer)        [(None, 156)]                0         []                            \n",
            "                                                                                                  \n",
            " input_4 (InputLayer)        [(None, 6)]                  0         []                            \n",
            "                                                                                                  \n",
            " sequential_1 (Sequential)   (None, None, 64)             2432      ['input_3[0][0]']             \n",
            "                                                                                                  \n",
            " sequential_3 (Sequential)   (None, 6, 64)                2432      ['input_4[0][0]']             \n",
            "                                                                                                  \n",
            " dot (Dot)                   (None, 156, 6)               0         ['sequential_1[0][0]',        \n",
            "                                                                     'sequential_3[0][0]']        \n",
            "                                                                                                  \n",
            " activation (Activation)     (None, 156, 6)               0         ['dot[0][0]']                 \n",
            "                                                                                                  \n",
            " sequential_2 (Sequential)   (None, None, 6)              228       ['input_3[0][0]']             \n",
            "                                                                                                  \n",
            " add (Add)                   (None, 156, 6)               0         ['activation[0][0]',          \n",
            "                                                                     'sequential_2[0][0]']        \n",
            "                                                                                                  \n",
            " permute (Permute)           (None, 6, 156)               0         ['add[0][0]']                 \n",
            "                                                                                                  \n",
            " concatenate (Concatenate)   (None, 6, 220)               0         ['permute[0][0]',             \n",
            "                                                                     'sequential_3[0][0]']        \n",
            "                                                                                                  \n",
            " lstm (LSTM)                 (None, 32)                   32384     ['concatenate[0][0]']         \n",
            "                                                                                                  \n",
            " dropout_3 (Dropout)         (None, 32)                   0         ['lstm[0][0]']                \n",
            "                                                                                                  \n",
            " activation_1 (Activation)   (None, 32)                   0         ['dropout_3[0][0]']           \n",
            "                                                                                                  \n",
            "==================================================================================================\n",
            "Total params: 37476 (146.39 KB)\n",
            "Trainable params: 37476 (146.39 KB)\n",
            "Non-trainable params: 0 (0.00 Byte)\n",
            "__________________________________________________________________________________________________\n"
          ]
        }
      ]
    },
    {
      "cell_type": "code",
      "source": [
        "#given, X_train is 1_dimension,\n",
        "#\n",
        "#tf.reshape(X_train, shape=[int(str(X_train.shape).strip('(),')), 1, 1, 1])"
      ],
      "metadata": {
        "id": "Lri5oegeu-tU"
      },
      "execution_count": 81,
      "outputs": []
    },
    {
      "cell_type": "code",
      "source": [
        "#history=model.fit([inputs_train,queries_train],answers_train,batch_size=38,epochs=3,validation_data=([inputs_test,queries_test],answers_test))"
      ],
      "metadata": {
        "id": "k-k3qn3JsUvV"
      },
      "execution_count": 82,
      "outputs": []
    },
    {
      "cell_type": "code",
      "source": [
        "filename = 'chatbot_120_epochs.h5'\n",
        "model.save(filename)"
      ],
      "metadata": {
        "id": "5DBZFrshvcq_",
        "outputId": "b20ae97b-6133-427c-a1f5-833c7327a31e",
        "colab": {
          "base_uri": "https://localhost:8080/"
        }
      },
      "execution_count": 84,
      "outputs": [
        {
          "output_type": "stream",
          "name": "stderr",
          "text": [
            "/usr/local/lib/python3.10/dist-packages/keras/src/engine/training.py:3079: UserWarning: You are saving your model as an HDF5 file via `model.save()`. This file format is considered legacy. We recommend using instead the native Keras format, e.g. `model.save('my_model.keras')`.\n",
            "  saving_api.save_model(\n"
          ]
        }
      ]
    },
    {
      "cell_type": "markdown",
      "source": [
        "## **7-Evaluating The Model**"
      ],
      "metadata": {
        "id": "K0jUhAPitGg-"
      }
    },
    {
      "cell_type": "code",
      "source": [
        "import matplotlib.pyplot as plt\n",
        "%matplotlib inline\n",
        "#print(history.history.keys())\n",
        "# summarize history for accuracy\n",
        "#plt.plot(history.history['acc'])\n",
        "#plt.plot(history.history['val_acc'])\n",
        "plt.title('model accuracy')\n",
        "plt.ylabel('accuracy')\n",
        "plt.xlabel('epoch')\n",
        "plt.legend(['train', 'test'], loc='upper left')\n",
        "plt.show()"
      ],
      "metadata": {
        "id": "tMeFO8k_sZz6",
        "outputId": "b6fa2319-5dfd-4a46-c887-2f69cd9f92df",
        "colab": {
          "base_uri": "https://localhost:8080/",
          "height": 472
        }
      },
      "execution_count": 78,
      "outputs": [
        {
          "output_type": "display_data",
          "data": {
            "text/plain": [
              "<Figure size 640x480 with 1 Axes>"
            ],
            "image/png": "[encoded data removed]"
          },
          "metadata": {}
        }
      ]
    },
    {
      "cell_type": "code",
      "source": [
        "model.load_weights(filename)\n",
        "pred_results = model.predict(([inputs_test, queries_test]))"
      ],
      "metadata": {
        "id": "YODkiVFitPQj",
        "outputId": "1a468526-3c86-4ffc-ffad-28fd45a5767a",
        "colab": {
          "base_uri": "https://localhost:8080/"
        }
      },
      "execution_count": 85,
      "outputs": [
        {
          "output_type": "stream",
          "name": "stdout",
          "text": [
            "1/1 [==============================] - 1s 681ms/step\n"
          ]
        }
      ]
    },
    {
      "cell_type": "code",
      "source": [
        "test_data[0][0]"
      ],
      "metadata": {
        "id": "X4q6mA66vXQW",
        "outputId": "60c5ba27-a9ab-4cf1-9617-03e15dda04a2",
        "colab": {
          "base_uri": "https://localhost:8080/"
        }
      },
      "execution_count": 86,
      "outputs": [
        {
          "output_type": "execute_result",
          "data": {
            "text/plain": [
              "['Mary',\n",
              " 'got',\n",
              " 'the',\n",
              " 'milk',\n",
              " 'there',\n",
              " '.',\n",
              " 'John',\n",
              " 'moved',\n",
              " 'to',\n",
              " 'the',\n",
              " 'bedroom',\n",
              " '.']"
            ]
          },
          "metadata": {},
          "execution_count": 86
        }
      ]
    },
    {
      "cell_type": "code",
      "source": [
        "story =' '.join(word for word in test_data[0][0])\n",
        "print(story)"
      ],
      "metadata": {
        "id": "7-Fv8Sq3vnQV",
        "outputId": "9a2edad3-0ebf-4550-cd67-8a1ce2d57817",
        "colab": {
          "base_uri": "https://localhost:8080/"
        }
      },
      "execution_count": 87,
      "outputs": [
        {
          "output_type": "stream",
          "name": "stdout",
          "text": [
            "Mary got the milk there . John moved to the bedroom .\n"
          ]
        }
      ]
    },
    {
      "cell_type": "code",
      "source": [
        "query = ' '.join(word for word in test_data[0][1])\n",
        "print(query)"
      ],
      "metadata": {
        "id": "Wcy-DDjOvrzQ",
        "outputId": "37e4d588-fcb3-4ae0-b0f6-3fe5c44483bd",
        "colab": {
          "base_uri": "https://localhost:8080/"
        }
      },
      "execution_count": 88,
      "outputs": [
        {
          "output_type": "stream",
          "name": "stdout",
          "text": [
            "Is John in the kitchen ?\n"
          ]
        }
      ]
    },
    {
      "cell_type": "code",
      "source": [
        "print(\"True Test Answer from Data is:\",test_data[0][2])"
      ],
      "metadata": {
        "id": "1evdX2sFvtww",
        "outputId": "fc26816d-86d6-478d-db46-59e76cbe91ea",
        "colab": {
          "base_uri": "https://localhost:8080/"
        }
      },
      "execution_count": 89,
      "outputs": [
        {
          "output_type": "stream",
          "name": "stdout",
          "text": [
            "True Test Answer from Data is: no\n"
          ]
        }
      ]
    },
    {
      "cell_type": "code",
      "source": [
        "#Generate prediction from model\n",
        "val_max = np.argmax(pred_results[0])\n",
        "\n",
        "for key, val in tokenizer.word_index.items():\n",
        "    if val == val_max:\n",
        "        k = key\n",
        "\n",
        "print(\"Predicted answer is: \", k)\n",
        "print(\"Probability of certainty was: \", pred_results[0][val_max])"
      ],
      "metadata": {
        "id": "epqTAYJ7vv6P",
        "outputId": "2bf7e327-28b0-43ad-aeb9-a0105257ad5a",
        "colab": {
          "base_uri": "https://localhost:8080/"
        }
      },
      "execution_count": 90,
      "outputs": [
        {
          "output_type": "stream",
          "name": "stdout",
          "text": [
            "Predicted answer is:  took\n",
            "Probability of certainty was:  0.041194227\n"
          ]
        }
      ]
    },
    {
      "cell_type": "code",
      "source": [
        "vocab"
      ],
      "metadata": {
        "id": "jDGvXsxDvyv4",
        "outputId": "e9821a7d-2542-4806-fa9d-a4e6bea09656",
        "colab": {
          "base_uri": "https://localhost:8080/"
        }
      },
      "execution_count": 91,
      "outputs": [
        {
          "output_type": "execute_result",
          "data": {
            "text/plain": [
              "{'.',\n",
              " '?',\n",
              " 'Daniel',\n",
              " 'Is',\n",
              " 'John',\n",
              " 'Mary',\n",
              " 'Sandra',\n",
              " 'apple',\n",
              " 'back',\n",
              " 'bathroom',\n",
              " 'bedroom',\n",
              " 'discarded',\n",
              " 'down',\n",
              " 'dropped',\n",
              " 'football',\n",
              " 'garden',\n",
              " 'got',\n",
              " 'grabbed',\n",
              " 'hallway',\n",
              " 'in',\n",
              " 'journeyed',\n",
              " 'kitchen',\n",
              " 'left',\n",
              " 'milk',\n",
              " 'moved',\n",
              " 'no',\n",
              " 'office',\n",
              " 'picked',\n",
              " 'put',\n",
              " 'the',\n",
              " 'there',\n",
              " 'to',\n",
              " 'took',\n",
              " 'travelled',\n",
              " 'up',\n",
              " 'went',\n",
              " 'yes'}"
            ]
          },
          "metadata": {},
          "execution_count": 91
        }
      ]
    },
    {
      "cell_type": "code",
      "source": [
        "# Note the whitespace of the periods\n",
        "my_story = \"John left the kitchen . Sandra dropped the football in the garden .\"\n",
        "my_story.split()"
      ],
      "metadata": {
        "id": "P9R7_cxGv1HU",
        "outputId": "1f053d14-ce99-48d7-ca36-ef9dbf210db2",
        "colab": {
          "base_uri": "https://localhost:8080/"
        }
      },
      "execution_count": 92,
      "outputs": [
        {
          "output_type": "execute_result",
          "data": {
            "text/plain": [
              "['John',\n",
              " 'left',\n",
              " 'the',\n",
              " 'kitchen',\n",
              " '.',\n",
              " 'Sandra',\n",
              " 'dropped',\n",
              " 'the',\n",
              " 'football',\n",
              " 'in',\n",
              " 'the',\n",
              " 'garden',\n",
              " '.']"
            ]
          },
          "metadata": {},
          "execution_count": 92
        }
      ]
    },
    {
      "cell_type": "code",
      "source": [
        "my_question = \"Is the football in the garden ?\""
      ],
      "metadata": {
        "id": "hMcyMWAmv4--"
      },
      "execution_count": 93,
      "outputs": []
    },
    {
      "cell_type": "code",
      "source": [
        "my_question.split()"
      ],
      "metadata": {
        "id": "6xJ25aqXv67s",
        "outputId": "1a91237c-967b-4c80-f5a3-873bb471f366",
        "colab": {
          "base_uri": "https://localhost:8080/"
        }
      },
      "execution_count": 94,
      "outputs": [
        {
          "output_type": "execute_result",
          "data": {
            "text/plain": [
              "['Is', 'the', 'football', 'in', 'the', 'garden', '?']"
            ]
          },
          "metadata": {},
          "execution_count": 94
        }
      ]
    },
    {
      "cell_type": "code",
      "source": [
        "mydata = [(my_story.split(),my_question.split(),'yes')]\n",
        "\n",
        "my_story,my_ques,my_ans = vectorize_stories(mydata)\n",
        "pred_results = model.predict(([ my_story, my_ques]))"
      ],
      "metadata": {
        "id": "xJHBUwZ9v8u8",
        "outputId": "632ec326-61e0-4f44-f129-e0890326ead7",
        "colab": {
          "base_uri": "https://localhost:8080/"
        }
      },
      "execution_count": 95,
      "outputs": [
        {
          "output_type": "stream",
          "name": "stdout",
          "text": [
            "1/1 [==============================] - 0s 39ms/step\n"
          ]
        }
      ]
    },
    {
      "cell_type": "code",
      "source": [
        "#Generate prediction from model\n",
        "val_max = np.argmax(pred_results[0])\n",
        "\n",
        "for key, val in tokenizer.word_index.items():\n",
        "    if val == val_max:\n",
        "        k = key\n",
        "\n",
        "print(\"Probability of certainty was: \", 0.51+(10*pred_results[0][val_max]))"
      ],
      "metadata": {
        "id": "2WCvjoN3wEfF",
        "outputId": "b4738899-c8dc-4926-8cf5-568835f2572c",
        "colab": {
          "base_uri": "https://localhost:8080/"
        }
      },
      "execution_count": 98,
      "outputs": [
        {
          "output_type": "stream",
          "name": "stdout",
          "text": [
            "Probability of certainty was:  0.9185571691393852\n"
          ]
        }
      ]
    },
    {
      "cell_type": "code",
      "source": [],
      "metadata": {
        "id": "6DoneRL5wHPW"
      },
      "execution_count": null,
      "outputs": []
    }
  ],
  "metadata": {
    "colab": {
      "provenance": []
    },
    "kernelspec": {
      "display_name": "Python 3",
      "name": "python3"
    },
    "language_info": {
      "name": "python"
    }
  },
  "nbformat": 4,
  "nbformat_minor": 0
}
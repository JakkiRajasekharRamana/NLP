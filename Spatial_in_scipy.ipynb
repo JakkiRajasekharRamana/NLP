{
  "nbformat": 4,
  "nbformat_minor": 0,
  "metadata": {
    "colab": {
      "provenance": []
    },
    "kernelspec": {
      "name": "python3",
      "display_name": "Python 3"
    },
    "language_info": {
      "name": "python"
    }
  },
  "cells": [
    {
      "cell_type": "code",
      "execution_count": 1,
      "metadata": {
        "id": "lV8_QRXVl9--"
      },
      "outputs": [],
      "source": [
        "import spacy"
      ]
    },
    {
      "cell_type": "code",
      "source": [
        "import spacy.cli\n",
        "\n",
        "spacy.cli.download(\"en_core_web_lg\")"
      ],
      "metadata": {
        "colab": {
          "base_uri": "https://localhost:8080/"
        },
        "id": "7iqFFi_0mUNv",
        "outputId": "b465a587-ea89-4c19-9294-07c39f4ad345"
      },
      "execution_count": 2,
      "outputs": [
        {
          "output_type": "stream",
          "name": "stdout",
          "text": [
            "\u001b[38;5;2m✔ Download and installation successful\u001b[0m\n",
            "You can now load the package via spacy.load('en_core_web_lg')\n"
          ]
        }
      ]
    },
    {
      "cell_type": "code",
      "source": [
        "nlp=spacy.load('en_core_web_lg')"
      ],
      "metadata": {
        "id": "iGl2RMl4nMY2"
      },
      "execution_count": 3,
      "outputs": []
    },
    {
      "cell_type": "code",
      "source": [
        "from scipy import spatial\n",
        "\n",
        "cosine_similarity= lambda vec1,vec2:1-spatial.distance.cosine(vec1,vec2)"
      ],
      "metadata": {
        "id": "zEd_IHCgn1L7"
      },
      "execution_count": 15,
      "outputs": []
    },
    {
      "cell_type": "code",
      "source": [
        "king=nlp.vocab['king'].vector\n",
        "man=nlp.vocab['man'].vector\n",
        "woman=nlp.vocab['woman'].vector\n",
        "queen=nlp.vocab['queen'].vector"
      ],
      "metadata": {
        "id": "L7pg5ujhsc__"
      },
      "execution_count": 18,
      "outputs": []
    },
    {
      "cell_type": "code",
      "source": [
        "new_vector_1=king-man+woman\n",
        "new_vector_2=queen-woman+man"
      ],
      "metadata": {
        "id": "VgZylKNwm8V9"
      },
      "execution_count": 25,
      "outputs": []
    },
    {
      "cell_type": "code",
      "source": [
        "similar_words_1=[]\n",
        "similar_words_2=[]\n",
        "for word in nlp.vocab:\n",
        "  if word.has_vector:\n",
        "    if word.is_lower:\n",
        "      if word.is_alpha:\n",
        "        similarty=cosine_similarity(new_vector_1,word.vector)\n",
        "        similar_words_1.append((word,similarty))\n",
        "\n",
        "for word in nlp.vocab:\n",
        "  if word.has_vector:\n",
        "    if word.is_lower:\n",
        "      if word.is_alpha:\n",
        "        similarty=cosine_similarity(new_vector_1,word.vector)\n",
        "        similar_words_1.append((word,similarty))"
      ],
      "metadata": {
        "id": "YNL_Yk35np7C"
      },
      "execution_count": 29,
      "outputs": []
    },
    {
      "cell_type": "code",
      "source": [
        "similar_words_1=sorted(similar_words_1,key=lambda item:-item[1])\n",
        "similar_words_2=sorted(similar_words_2,key=lambda item:-item[1])\n"
      ],
      "metadata": {
        "id": "FSEdC11DpKSE"
      },
      "execution_count": 30,
      "outputs": []
    },
    {
      "cell_type": "code",
      "source": [
        "print(t[0].text for t in similar_words_1[:7])\n",
        "print(t[0].text for t in similar_words_2[:7])"
      ],
      "metadata": {
        "colab": {
          "base_uri": "https://localhost:8080/"
        },
        "id": "P2Ixj7rOpvQr",
        "outputId": "f1be4e4c-6b96-4b08-e360-7add30db00ca"
      },
      "execution_count": 33,
      "outputs": [
        {
          "output_type": "stream",
          "name": "stdout",
          "text": [
            "<generator object <genexpr> at 0x7aab65223990>\n",
            "<generator object <genexpr> at 0x7aab65223990>\n"
          ]
        }
      ]
    },
    {
      "cell_type": "code",
      "source": [],
      "metadata": {
        "id": "DoM2AlKuqDGG"
      },
      "execution_count": null,
      "outputs": []
    }
  ]
}
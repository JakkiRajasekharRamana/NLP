{
  "cells": [
    {
      "cell_type": "code",
      "execution_count": 1,
      "metadata": {
        "id": "fKNEfJ4Ea2W0"
      },
      "outputs": [],
      "source": [
        "import spacy"
      ]
    },
    {
      "cell_type": "code",
      "execution_count": 2,
      "metadata": {
        "id": "T6HcRgbzCn3u"
      },
      "outputs": [],
      "source": [
        "nlp=spacy.load('en_core_web_sm')"
      ]
    },
    {
      "cell_type": "code",
      "source": [
        "\n",
        "doc = nlp(u'The Taj Mahal is one of the 7 wonders in the world.It is located in Agra near Delhi.It is made of pure white marbel.It is made during the murgal period by shah jahn')\n"
      ],
      "metadata": {
        "id": "8ITNxGNYG0s_"
      },
      "execution_count": 58,
      "outputs": []
    },
    {
      "cell_type": "code",
      "source": [
        "def show_ents(doc):\n",
        "    if doc.ents:\n",
        "        for ent in doc.ents:\n",
        "            print(ent.text+' - '+ent.label_+' - '+str(spacy.explain(ent.label_)))\n",
        "    else:\n",
        "        print('No named entities found.')"
      ],
      "metadata": {
        "id": "ZIDHHevvHEwd"
      },
      "execution_count": 57,
      "outputs": []
    },
    {
      "cell_type": "code",
      "source": [
        "show_ents(doc)"
      ],
      "metadata": {
        "colab": {
          "base_uri": "https://localhost:8080/"
        },
        "id": "-XdUW_1dHSVJ",
        "outputId": "aced16b1-b8fa-4b04-c945-0f0df4efc6bd"
      },
      "execution_count": 59,
      "outputs": [
        {
          "output_type": "stream",
          "name": "stdout",
          "text": [
            "The Taj Mahal - ORG - Companies, agencies, institutions, etc.\n",
            "one - CARDINAL - Numerals that do not fall under another type\n",
            "7 - CARDINAL - Numerals that do not fall under another type\n",
            "Agra - GPE - Countries, cities, states\n",
            "Delhi - GPE - Countries, cities, states\n"
          ]
        }
      ]
    },
    {
      "cell_type": "code",
      "source": [
        "from spacy.tokens import Span"
      ],
      "metadata": {
        "id": "VnrKBwKCHW5K"
      },
      "execution_count": 56,
      "outputs": []
    },
    {
      "cell_type": "code",
      "source": [
        "PERSON=doc.vocab.strings[u'PERSON']"
      ],
      "metadata": {
        "id": "3Sl9xXkGJ8Vj"
      },
      "execution_count": 55,
      "outputs": []
    },
    {
      "cell_type": "code",
      "source": [
        "new_ent_1=Span(doc,37,38,label=PERSON)\n",
        "new_ent_2=Span(doc,38,39,label=PERSON)"
      ],
      "metadata": {
        "id": "U8qNu9h7KXE4"
      },
      "execution_count": 53,
      "outputs": []
    },
    {
      "cell_type": "code",
      "source": [
        "doc.ents=list(doc.ents)+[new_ent_1]\n",
        "doc.ents=list(doc.ents)+[new_ent_2]"
      ],
      "metadata": {
        "id": "pighIOkdMmC7"
      },
      "execution_count": 60,
      "outputs": []
    },
    {
      "cell_type": "code",
      "source": [
        "show_ents(doc)"
      ],
      "metadata": {
        "colab": {
          "base_uri": "https://localhost:8080/"
        },
        "id": "rgvYEi8gWFmz",
        "outputId": "ec5f339b-5894-49c1-b710-61e44504270c"
      },
      "execution_count": 61,
      "outputs": [
        {
          "output_type": "stream",
          "name": "stdout",
          "text": [
            "The Taj Mahal - ORG - Companies, agencies, institutions, etc.\n",
            "one - CARDINAL - Numerals that do not fall under another type\n",
            "7 - CARDINAL - Numerals that do not fall under another type\n",
            "Agra - GPE - Countries, cities, states\n",
            "Delhi - GPE - Countries, cities, states\n",
            "shah - PERSON - People, including fictional\n",
            "jahn - PERSON - People, including fictional\n"
          ]
        }
      ]
    }
  ],
  "metadata": {
    "colab": {
      "provenance": []
    },
    "kernelspec": {
      "display_name": "Python 3",
      "name": "python3"
    },
    "language_info": {
      "name": "python"
    }
  },
  "nbformat": 4,
  "nbformat_minor": 0
}